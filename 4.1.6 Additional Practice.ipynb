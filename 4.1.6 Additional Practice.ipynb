{
 "cells": [
  {
   "cell_type": "code",
   "execution_count": 1,
   "id": "aec85f4b",
   "metadata": {},
   "outputs": [
    {
     "name": "stderr",
     "output_type": "stream",
     "text": [
      "  % Total    % Received % Xferd  Average Speed   Time    Time     Time  Current\n",
      "                                 Dload  Upload   Total   Spent    Left  Speed\n",
      "\n",
      "  0     0    0     0    0     0      0      0 --:--:-- --:--:-- --:--:--     0\n",
      "100    43  100    43    0     0     95      0 --:--:-- --:--:-- --:--:--    95\n"
     ]
    }
   ],
   "source": [
    "!curl https://raw.githubusercontent.com/MicrosoftLearning/intropython/master/rainbow -o rainbow.txt"
   ]
  },
  {
   "cell_type": "code",
   "execution_count": 10,
   "id": "37eb3121",
   "metadata": {},
   "outputs": [],
   "source": [
    "rainbow_file = open('rainbow.txt', 'r')"
   ]
  },
  {
   "cell_type": "code",
   "execution_count": 11,
   "id": "3295ff09",
   "metadata": {},
   "outputs": [],
   "source": [
    "rainbow = rainbow_file.readlines()"
   ]
  },
  {
   "cell_type": "code",
   "execution_count": 12,
   "id": "1b7cc12a",
   "metadata": {},
   "outputs": [
    {
     "name": "stdout",
     "output_type": "stream",
     "text": [
      "['red\\n', 'orange\\n', 'yellow\\n', 'green\\n', 'blue\\n', 'indigo\\n', 'violet\\n']\n"
     ]
    }
   ],
   "source": [
    "print(rainbow)"
   ]
  },
  {
   "cell_type": "code",
   "execution_count": 13,
   "id": "0453b277",
   "metadata": {},
   "outputs": [
    {
     "name": "stdout",
     "output_type": "stream",
     "text": [
      "blue\n",
      "green\n",
      "indigo\n",
      "orange\n",
      "red\n",
      "violet\n",
      "yellow\n"
     ]
    }
   ],
   "source": [
    "rainbow.sort()\n",
    "\n",
    "for i in range(len(rainbow)):\n",
    "    print(rainbow[i].strip())"
   ]
  },
  {
   "cell_type": "code",
   "execution_count": 21,
   "id": "c4d17fcf",
   "metadata": {},
   "outputs": [
    {
     "name": "stdout",
     "output_type": "stream",
     "text": [
      "red\n"
     ]
    }
   ],
   "source": [
    "dicto = {\"r\": \"red\", \"o\": \"orange\"}\n",
    "\n",
    "print(dicto['r'])"
   ]
  },
  {
   "cell_type": "code",
   "execution_count": 25,
   "id": "ce4a9617",
   "metadata": {},
   "outputs": [],
   "source": [
    "rainbow_file.close()"
   ]
  },
  {
   "cell_type": "code",
   "execution_count": null,
   "id": "9b784b33",
   "metadata": {
    "scrolled": true
   },
   "outputs": [],
   "source": [
    "!curl https://raw.githubusercontent.com/MicrosoftLearning/intropython/master/world_temp_mean.csv -o mean_temp.txt"
   ]
  },
  {
   "cell_type": "code",
   "execution_count": null,
   "id": "0b74f6e2",
   "metadata": {},
   "outputs": [],
   "source": [
    "mean_temp_file = open('mean_temp.txt', 'r')\n",
    "mean_temp_file.seek(0, 0)\n",
    "headings = mean_temp_file.readlines(1)\n",
    "\n",
    "headings = headings[0].split(\",\")\n",
    "\n",
    "for i in range(len(headings)):\n",
    "    headings[i] = headings[i].strip()\n",
    "    \n",
    "print(headings)\n",
    "\n",
    "city_temp = []\n",
    "\n",
    "mean_temp_file.seek(2)\n",
    "\n",
    "while True:\n",
    "    for lines in mean_temp_file.readlines():\n",
    "        temp = lines[:-1]\n",
    "        city_temp = temp.split(',')\n",
    "        print(headings[0].capitalize(), \"of\", city_temp[0], headings[2], \"is\", city_temp[2], \"Celcius.\" )"
   ]
  },
  {
   "cell_type": "code",
   "execution_count": null,
   "id": "d70e1e46",
   "metadata": {},
   "outputs": [],
   "source": [
    "mean_temp_file.close()"
   ]
  },
  {
   "cell_type": "code",
   "execution_count": 4,
   "id": "f434fb38",
   "metadata": {},
   "outputs": [
    {
     "name": "stderr",
     "output_type": "stream",
     "text": [
      "  % Total    % Received % Xferd  Average Speed   Time    Time     Time  Current\n",
      "                                 Dload  Upload   Total   Spent    Left  Speed\n",
      "\n",
      "  0     0    0     0    0     0      0      0 --:--:-- --:--:-- --:--:--     0\n",
      "100   303  100   303    0     0   7575      0 --:--:-- --:--:-- --:--:--  7575\n"
     ]
    }
   ],
   "source": [
    "! curl https://raw.githubusercontent.com/MicrosoftLearning/intropython/master/digits_of_pi -o pi.txt"
   ]
  },
  {
   "cell_type": "code",
   "execution_count": null,
   "id": "0e024def",
   "metadata": {},
   "outputs": [],
   "source": [
    "pi_file = open('pi.txt', 'r')\n",
    "\n",
    "pi = pi_file.read() #reads file into pi\n",
    "\n",
    "pi_file.close()\n",
    "\n",
    "user = input(\"Please enter your name: \").strip()\n",
    "\n",
    "if user:\n",
    "    print(\"Hi,\", user + \"!\\n\")\n",
    "\n",
    "seed = len(user)\n",
    "digit = pi[seed]\n",
    "guess = input(\"Enter a number to guess or 'q' to quit: \")\n",
    "\n",
    "correct = 0\n",
    "wrong = 0\n",
    "\n",
    "while guess.isdigit():\n",
    "    if digit == \".\":\n",
    "        seed += 1\n",
    "        digit = pi[seed]\n",
    "        if guess == digit:\n",
    "            correct += 1\n",
    "            print('Correct:', correct, \"\\n\")\n",
    "            guess = input(\"Enter a number to guess or 'q' to quit: \")\n",
    "            seed += seed\n",
    "            digit = pi[seed]\n",
    "        else:\n",
    "            wrong += 1\n",
    "            print('Incorrect:', wrong, \"\\n\")\n",
    "            guess = input(\"Enter another number to guess again or 'q' to quit: \")\n",
    "            print('Incorrect:', wrong)\n",
    "    elif digit == \"\\n\":\n",
    "        seed += 1\n",
    "        digit = pi[seed]\n",
    "        if guess == digit:\n",
    "            correct += 1\n",
    "            print('Correct:', correct, \"\\n\")\n",
    "            guess = input(\"Enter a number to guess or 'q' to quit: \")\n",
    "            seed += seed\n",
    "            digit = pi[seed]\n",
    "        else:\n",
    "            wrong += 1\n",
    "            print('Incorrect:', wrong, \"\\n\")\n",
    "            guess = input(\"Enter another number to guess again or 'q' to quit: \")\n",
    "    else:\n",
    "        if guess == digit:\n",
    "            correct += 1\n",
    "            print('Correct:', correct, \"\\n\")\n",
    "            guess = input(\"Enter a number to guess or 'q' to quit: \")\n",
    "            seed += seed\n",
    "            digit = pi[seed]\n",
    "        else:\n",
    "            wrong += 1\n",
    "            print('Incorrect:', wrong, \"\\n\")\n",
    "            guess = input(\"Enter another number to guess again or 'q' to quit: \")\n",
    "            \n",
    "print(\"\\nResults:\\nCorrect:\", correct, \"\\nWrong:\", wrong)"
   ]
  },
  {
   "cell_type": "code",
   "execution_count": null,
   "id": "a4a09a58",
   "metadata": {},
   "outputs": [],
   "source": []
  }
 ],
 "metadata": {
  "kernelspec": {
   "display_name": "Python 3",
   "language": "python",
   "name": "python3"
  },
  "language_info": {
   "codemirror_mode": {
    "name": "ipython",
    "version": 3
   },
   "file_extension": ".py",
   "mimetype": "text/x-python",
   "name": "python",
   "nbconvert_exporter": "python",
   "pygments_lexer": "ipython3",
   "version": "3.8.8"
  }
 },
 "nbformat": 4,
 "nbformat_minor": 5
}
